{
  "nbformat": 4,
  "nbformat_minor": 0,
  "metadata": {
    "colab": {
      "name": "introduction_tweepy.ipynb",
      "provenance": [],
      "collapsed_sections": [],
      "toc_visible": true,
      "authorship_tag": "ABX9TyPxfBDZSfjIMFFvxcfXrst2",
      "include_colab_link": true
    },
    "kernelspec": {
      "name": "python3",
      "display_name": "Python 3"
    }
  },
  "cells": [
    {
      "cell_type": "markdown",
      "metadata": {
        "id": "view-in-github",
        "colab_type": "text"
      },
      "source": [
        "<a href=\"https://colab.research.google.com/github/victorviro/Introduction-tweepy/blob/master/introduction_tweepy.ipynb\" target=\"_parent\"><img src=\"https://colab.research.google.com/assets/colab-badge.svg\" alt=\"Open In Colab\"/></a>"
      ]
    },
    {
      "cell_type": "markdown",
      "metadata": {
        "id": "AWNwmYN5iI-o",
        "colab_type": "text"
      },
      "source": [
        "Tweepy is an open-sourced library, hosted on GitHub and enables Python to communicate with the Twitter platform and use its API.\n",
        "\n",
        "The goal of this tutorial is to get you set-up and rolling with Tweepy. We won’t go into too much detail here, just some important basics."
      ]
    },
    {
      "cell_type": "markdown",
      "metadata": {
        "id": "K5gXjLvhb-37",
        "colab_type": "text"
      },
      "source": [
        "## Authentification\n",
        "\n",
        "To begin the process we need to register our client application with Twitter. Create a new application and once you are done you should have your credentials.\n",
        "\n",
        "Tweepy takes care of all the details for using OAuth required by the Twitter API to authenticate each request. It provides an OAuthHandler class that you can use to set the credentials to be used in all API calls.\n",
        "\n",
        "This code shows how you can create an OAuthHandler object that can later be used for API calls:"
      ]
    },
    {
      "cell_type": "code",
      "metadata": {
        "id": "0PdVKk0rtJw5",
        "colab_type": "code",
        "colab": {}
      },
      "source": [
        "import tweepy\n",
        " \n",
        "\n",
        "consumer_key = ''\n",
        "consumer_secret = ''\n",
        "access_token = ''\n",
        "access_secret = ''\n",
        " \n",
        "auth = tweepy.OAuthHandler(consumer_key, consumer_secret)\n",
        "auth.set_access_token(access_token, access_secret)\n",
        " \n"
      ],
      "execution_count": 0,
      "outputs": []
    },
    {
      "cell_type": "markdown",
      "metadata": {
        "id": "OzgsJ7CEcFw4",
        "colab_type": "text"
      },
      "source": [
        "## Api object\n",
        "\n",
        "The API class has many methods that provide access to Twitter API endpoints. Using these methods, you can access the Twitter API’s functionality.\n",
        "\n",
        "The following code snippet creates an API object that you can use to invoke Twitter API methods. Setting `wait_on_rate_limit` and `wait_on_rate_limit_notify` to True makes the API object print a message and wait if the rate limit is exceeded:"
      ]
    },
    {
      "cell_type": "code",
      "metadata": {
        "id": "xukZ2woBuUiw",
        "colab_type": "code",
        "colab": {}
      },
      "source": [
        "# Create API object\n",
        "api = tweepy.API(auth, wait_on_rate_limit=True, wait_on_rate_limit_notify=True)# auth, "
      ],
      "execution_count": 0,
      "outputs": []
    },
    {
      "cell_type": "markdown",
      "metadata": {
        "id": "JvEt7RkPee2u",
        "colab_type": "text"
      },
      "source": [
        "### Methods\n",
        "The API methods can be grouped into the following categories:\n",
        "\n",
        "- Methods for user timelines\n",
        "- Methods for tweets\n",
        "- Methods for users\n",
        "- Methods for followers\n",
        "- Methods for your account\n",
        "- Methods for likes\n",
        "- Methods for blocking users\n",
        "- Methods for searches\n",
        "- Methods for trends\n",
        "- Methods for streaming\n",
        "\n",
        "In the following subsections, you’re going to review different groups of API methods. You can visit the [API Class Documentation](https://tweepy.readthedocs.io/en/latest/api.html)  for a detailed list of all API methods."
      ]
    },
    {
      "cell_type": "markdown",
      "metadata": {
        "id": "0Zt1Yg9Idrdl",
        "colab_type": "text"
      },
      "source": [
        "#### Methods for Tweets\n",
        "\n",
        "These methods have to do with creating, fetching, and retweeting tweets.\n",
        "The following code uses Tweepy to create a tweet with some text:"
      ]
    },
    {
      "cell_type": "code",
      "metadata": {
        "id": "r1IawLK3dr1N",
        "colab_type": "code",
        "colab": {}
      },
      "source": [
        "# We can create a tweet in the profile wall from a string\n",
        "api.update_status(\"Hello Tweepy\")"
      ],
      "execution_count": 0,
      "outputs": []
    },
    {
      "cell_type": "code",
      "metadata": {
        "id": "kC6VmPX_K6Db",
        "colab_type": "code",
        "colab": {}
      },
      "source": [
        "# we can get the recent tweets of a user\n",
        "tweets_user = api.user_timeline(\"ThePSF\", count=1)\n",
        "# get the info of the tweet in a json\n",
        "tweets_user[0]._json"
      ],
      "execution_count": 0,
      "outputs": []
    },
    {
      "cell_type": "markdown",
      "metadata": {
        "id": "LZKoxqwHdSN9",
        "colab_type": "text"
      },
      "source": [
        "#### Methods for User Timelines\n",
        "\n",
        "These methods deal with reading tweets, mentions, and retweets from your timeline or any other user’s timeline, as long as it’s public."
      ]
    },
    {
      "cell_type": "code",
      "metadata": {
        "id": "U4nAP_vruUlt",
        "colab_type": "code",
        "colab": {}
      },
      "source": [
        "# we can use object api to get recent tweets from your timeline\n",
        "tweets = api.home_timeline()\n",
        "for tweet in tweets:\n",
        "    print('{real_name} (@{name}) said {tweet}\\n\\n'.format(\n",
        "        real_name=tweet.author.name, name=tweet.author.screen_name,\n",
        "        tweet=tweet.text))"
      ],
      "execution_count": 0,
      "outputs": []
    },
    {
      "cell_type": "markdown",
      "metadata": {
        "id": "LAn-x0XIfe8k",
        "colab_type": "text"
      },
      "source": [
        "#### Methods for Users\n",
        "\n",
        "Methods in this group enable you to search users with a filter criteria, fetch user details, and list the followers of any user, as long as that user account is public.\n",
        "\n",
        "The code below fetches a user and prints its details as well as its 20 most recent followers:\n"
      ]
    },
    {
      "cell_type": "code",
      "metadata": {
        "id": "nlG12KedfgWN",
        "colab_type": "code",
        "colab": {}
      },
      "source": [
        "user = api.get_user(\"ThePSF\")\n",
        "\n",
        "print(\"User details:\")\n",
        "print(f\"name: {user.name}\")\n",
        "print(f\"description: {user.description}\")\n",
        "print(f\"location: {user.location}\")\n",
        "\n",
        "print(\"Last 20 Followers:\")\n",
        "for follower in user.followers():\n",
        "    print(follower.name)"
      ],
      "execution_count": 0,
      "outputs": []
    },
    {
      "cell_type": "markdown",
      "metadata": {
        "id": "iFAnn4pagD8Y",
        "colab_type": "text"
      },
      "source": [
        "The method `get_user()` returns an object containing the user details. This returned object also has methods to access information related to the user. \n",
        "\n",
        "We used the `followers()` attribute to get the list of followers."
      ]
    },
    {
      "cell_type": "markdown",
      "metadata": {
        "id": "NswUTfZ-gGo3",
        "colab_type": "text"
      },
      "source": [
        "#### Methods for Followers\n",
        "\n",
        "This group of methods deals with the following and unfollowing users, querying a user’s followers, and listing the accounts any user is following.\n",
        "\n",
        "This code shows how you can use Tweepy to start following someone and later unfollow it."
      ]
    },
    {
      "cell_type": "code",
      "metadata": {
        "id": "x4tCV--5gME3",
        "colab_type": "code",
        "colab": {}
      },
      "source": [
        "api.create_friendship(\"ThePSF\")"
      ],
      "execution_count": 0,
      "outputs": []
    },
    {
      "cell_type": "code",
      "metadata": {
        "id": "ZajPqK_ZTX_N",
        "colab_type": "code",
        "colab": {}
      },
      "source": [
        "api.destroy_friendship(\"ThePSF\")"
      ],
      "execution_count": 0,
      "outputs": []
    },
    {
      "cell_type": "markdown",
      "metadata": {
        "id": "5vGaPWPRgWSI",
        "colab_type": "text"
      },
      "source": [
        "#### Methods for Your Account\n",
        "\n",
        "These methods allow you to read and write your own profile details.\n",
        "\n",
        "For example, you can use this code to update your profile description:"
      ]
    },
    {
      "cell_type": "code",
      "metadata": {
        "id": "hkrABJ2JgZ7R",
        "colab_type": "code",
        "colab": {}
      },
      "source": [
        "api.update_profile(description=\"I like Python\")\n"
      ],
      "execution_count": 0,
      "outputs": []
    },
    {
      "cell_type": "markdown",
      "metadata": {
        "id": "S9Dtk9FUgfDR",
        "colab_type": "text"
      },
      "source": [
        "The keyword argument description is passed to `update_profile()` to change your profile description to \"I like Python\"."
      ]
    },
    {
      "cell_type": "markdown",
      "metadata": {
        "id": "oAeZsA-4gfqY",
        "colab_type": "text"
      },
      "source": [
        "#### Methods for Likes\n",
        "\n",
        "Using these API methods, you can mark any tweet as Liked or remove the Like mark if it was already added.\n",
        "\n",
        "You can mark the most recent tweet in your home timeline as Liked as follows"
      ]
    },
    {
      "cell_type": "code",
      "metadata": {
        "id": "xzQjSKx9ggo_",
        "colab_type": "code",
        "colab": {}
      },
      "source": [
        "tweets = api.home_timeline(count=1)\n",
        "tweet = tweets[0]\n",
        "print(f\"Liking tweet {tweet.id} of {tweet.author.name}\")\n",
        "api.create_favorite(tweet.id)\n"
      ],
      "execution_count": 0,
      "outputs": []
    },
    {
      "cell_type": "markdown",
      "metadata": {
        "id": "DgjsTvYhgg0f",
        "colab_type": "text"
      },
      "source": [
        "This code uses `home_timeline()` to get the most recent tweet. Then, the `tweet.id` is passed to `create_favorite()` to mark the tweet as Liked."
      ]
    },
    {
      "cell_type": "markdown",
      "metadata": {
        "id": "-Fu5udJFgqsB",
        "colab_type": "text"
      },
      "source": [
        "#### Methods for Blocking Users\n",
        "\n"
      ]
    },
    {
      "cell_type": "markdown",
      "metadata": {
        "id": "IEGpTn9sg5-A",
        "colab_type": "text"
      },
      "source": [
        "This group of methods deals with blocking and unblocking users, as well as listing blocked users.\n",
        "\n",
        "This code iterates through the list of accounts that you have blocked. You can get this list using `blocks()`."
      ]
    },
    {
      "cell_type": "code",
      "metadata": {
        "id": "optnXgJ9gg-A",
        "colab_type": "code",
        "colab": {}
      },
      "source": [
        "for block in api.blocks():\n",
        "    print(block.name)"
      ],
      "execution_count": 0,
      "outputs": []
    },
    {
      "cell_type": "markdown",
      "metadata": {
        "id": "XCtMcwV7ghHK",
        "colab_type": "text"
      },
      "source": [
        "#### Methods for Searches\n",
        "\n"
      ]
    },
    {
      "cell_type": "markdown",
      "metadata": {
        "id": "SOAHur8ihGX_",
        "colab_type": "text"
      },
      "source": [
        "Using these methods, you can search for tweets using text, language, and other filters.\n",
        "\n",
        "For example, you can try this code to get the most recent public tweets that are in English and contain the word \"Python\":\n",
        "\n",
        "\n"
      ]
    },
    {
      "cell_type": "code",
      "metadata": {
        "id": "lTZEFqVXghOo",
        "colab_type": "code",
        "colab": {}
      },
      "source": [
        "search = api.search(q=\"python\", lang=\"en\")\n",
        "for tweet in search:\n",
        "    print(f'user name: {tweet.user.name}')\n",
        "    print(f'text of tweet: {tweet.text}')"
      ],
      "execution_count": 0,
      "outputs": []
    },
    {
      "cell_type": "markdown",
      "metadata": {
        "id": "16uqm3g1ghWp",
        "colab_type": "text"
      },
      "source": [
        "You used `search()` to filter tweets that match the desired criteria. This will search in any public tweet, not just in tweets from people you are following.\n",
        "\n",
        "The `q` parameter refers to the search query string. The `lang` parameter refers to the language of the tweets."
      ]
    },
    {
      "cell_type": "markdown",
      "metadata": {
        "id": "FmQ4fOjZhQR2",
        "colab_type": "text"
      },
      "source": [
        "#### Methods for Trends\n",
        "\n",
        "\n",
        "\n",
        "\n",
        "\n",
        "\n"
      ]
    },
    {
      "cell_type": "markdown",
      "metadata": {
        "id": "Wyn797hRhQVA",
        "colab_type": "text"
      },
      "source": [
        "This group of methods allows you to list the current trends for any geographical location.\n",
        "\n",
        "For example, here’s how to list the world-wide trending topics:"
      ]
    },
    {
      "cell_type": "code",
      "metadata": {
        "id": "SVpXgadlhYA-",
        "colab_type": "code",
        "colab": {}
      },
      "source": [
        "trends_result = api.trends_place(1)\n",
        "for trend in trends_result[0][\"trends\"]:\n",
        "    print(trend[\"name\"])"
      ],
      "execution_count": 0,
      "outputs": []
    },
    {
      "cell_type": "markdown",
      "metadata": {
        "id": "DPMi8UIWhQZL",
        "colab_type": "text"
      },
      "source": [
        "Using `trends_place()`, you get the list of trends for any place, passing as the only argument the place id. Here, 1 means world-wide. You can see the full list of available locations using `api.trends_available()`."
      ]
    }
  ]
}